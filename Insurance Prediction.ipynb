{
 "cells": [
  {
   "cell_type": "code",
   "execution_count": 22,
   "id": "49574ef4",
   "metadata": {},
   "outputs": [
    {
     "data": {
      "text/plain": [
       "['Prediction_Model.pkl']"
      ]
     },
     "execution_count": 22,
     "metadata": {},
     "output_type": "execute_result"
    }
   ],
   "source": [
    "import pandas as pd\n",
    "import numpy as np\n",
    "from sklearn.model_selection import train_test_split\n",
    "from sklearn.preprocessing import OneHotEncoder\n",
    "from sklearn.compose import ColumnTransformer\n",
    "from sklearn.pipeline import Pipeline\n",
    "from sklearn.ensemble import RandomForestRegressor\n",
    "import joblib\n",
    "\n",
    "\n",
    "data = pd.read_csv(\"C:/Users/Mus/Downloads/claims_df (2).csv\")\n",
    "\n",
    "# Identify specific columns in the dataset\n",
    "Specific_columns = ['customer_state', 'highest_education',\n",
    "       'employment_status', 'gender', 'income', 'residence_type',\n",
    "       'marital_status', 'sales_channel', 'coverage',\n",
    "       'vehicle_class', 'vehicle_size', \n",
    "       'current_claim_amount', 'total_claims', 'total_claims_amount',\n",
    "       'customer_lifetime_value']\n",
    "\n",
    "data1=data[Specific_columns]\n",
    "\n",
    "# Séparer les variables indépendantes et la variable cible\n",
    "X = data1.drop(columns=[\"current_claim_amount\"])\n",
    "y = data1[\"current_claim_amount\"]\n",
    "\n",
    "# Identifier les colonnes numériques et catégorielles\n",
    "numeric_features = X.select_dtypes(include=['int64', 'float64']).columns.tolist()\n",
    "categorical_features = X.select_dtypes(include=['object']).columns.tolist()\n",
    "\n",
    "# Créer un préprocesseur avec standardisation pour les numériques et encodage pour les qualitatives\n",
    "preprocessor = ColumnTransformer(\n",
    "    transformers=[\n",
    "        ('num', StandardScaler(), numeric_features),\n",
    "        ('cat', OneHotEncoder(handle_unknown='ignore'), categorical_features)\n",
    "    ])\n",
    "\n",
    "# Définir le pipeline avec le préprocesseur et le modèle\n",
    "model = Pipeline(steps=[\n",
    "    ('preprocessor', preprocessor),\n",
    "    ('regressor', RandomForestRegressor(random_state=42))\n",
    "])\n",
    "\n",
    "# Diviser les données en ensembles d'entraînement et de test\n",
    "X_train, X_test, y_train, y_test = train_test_split(X, y, test_size=0.2, random_state=42)\n",
    "\n",
    "# Entraîner le modèle\n",
    "model.fit(X_train, y_train)\n",
    "\n",
    "# Sauvegardez le modèle dans un fichier .pkl\n",
    "joblib.dump(model, 'Prediction_Model.pkl')"
   ]
  },
  {
   "cell_type": "code",
   "execution_count": 24,
   "id": "e5dad170",
   "metadata": {},
   "outputs": [
    {
     "name": "stdout",
     "output_type": "stream",
     "text": [
      "Valeurs uniques de 'employment_status' :\n",
      "['Medical Leave' 'Employed' 'Retired' 'Disabled']\n",
      "\n",
      "Valeurs uniques de 'vehicle_size' :\n",
      "['Midsize' 'Small' 'Large']\n"
     ]
    }
   ],
   "source": [
    "# Afficher les valeurs uniques de la colonne 'employment_status'\n",
    "unique_employment_status = data1['employment_status'].unique()\n",
    "print(\"Valeurs uniques de 'employment_status' :\")\n",
    "print(unique_employment_status)\n",
    "\n",
    "# Afficher les valeurs uniques de la colonne 'customer_state'\n",
    "unique_customer_state = data1['vehicle_size'].unique()\n",
    "print(\"\\nValeurs uniques de 'vehicle_size' :\")\n",
    "print(unique_customer_state)\n"
   ]
  },
  {
   "cell_type": "code",
   "execution_count": null,
   "id": "6e022731",
   "metadata": {},
   "outputs": [],
   "source": []
  }
 ],
 "metadata": {
  "kernelspec": {
   "display_name": "Python 3 (ipykernel)",
   "language": "python",
   "name": "python3"
  },
  "language_info": {
   "codemirror_mode": {
    "name": "ipython",
    "version": 3
   },
   "file_extension": ".py",
   "mimetype": "text/x-python",
   "name": "python",
   "nbconvert_exporter": "python",
   "pygments_lexer": "ipython3",
   "version": "3.11.5"
  }
 },
 "nbformat": 4,
 "nbformat_minor": 5
}
